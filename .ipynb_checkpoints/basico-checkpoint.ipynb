{
 "cells": [
  {
   "cell_type": "markdown",
   "id": "fead62a4",
   "metadata": {},
   "source": [
    "#1. A função sempre tem que ter parêntesis, tanto na hora de declarar quanto na hora de chamar:"
   ]
  },
  {
   "cell_type": "code",
   "execution_count": 4,
   "id": "727310b7",
   "metadata": {},
   "outputs": [],
   "source": [
    "def minhafuncao():\n",
    "    print('executa')"
   ]
  },
  {
   "cell_type": "code",
   "execution_count": 7,
   "id": "4db09c8e",
   "metadata": {},
   "outputs": [
    {
     "name": "stdout",
     "output_type": "stream",
     "text": [
      "executa\n"
     ]
    }
   ],
   "source": [
    "minhafuncao()"
   ]
  },
  {
   "cell_type": "markdown",
   "id": "3a07dee2",
   "metadata": {},
   "source": [
    "Python permite que os parâmetros:\n",
    "a) venham fora de ordem\n",
    "b) não precisem ser especificados na cabeça da função"
   ]
  },
  {
   "cell_type": "code",
   "execution_count": 11,
   "id": "d88117a4",
   "metadata": {},
   "outputs": [],
   "source": [
    "def funcaokwargs(**kwargs):\n",
    "    primeiro = kwargs.get(\"primeiro\")\n",
    "    segundo = kwargs.get(\"segundo\")\n",
    "    print(f\"primeiro parametro: {primeiro}\")\n",
    "    print(f\"segundo parametro: {segundo}\")"
   ]
  },
  {
   "cell_type": "code",
   "execution_count": 13,
   "id": "5f6071cd",
   "metadata": {},
   "outputs": [
    {
     "name": "stdout",
     "output_type": "stream",
     "text": [
      "primeiro parametro: p1\n",
      "segundo parametro: p2\n"
     ]
    }
   ],
   "source": [
    "funcaokwargs(segundo = \"p2\", primeiro = \"p1\")"
   ]
  },
  {
   "cell_type": "markdown",
   "id": "15593391",
   "metadata": {},
   "source": [
    "É possível sem o kwargs, desde que todos sejam espeficicados"
   ]
  },
  {
   "cell_type": "code",
   "execution_count": 15,
   "id": "70667f34",
   "metadata": {},
   "outputs": [],
   "source": [
    "def minhafuncaocomparametrosforadeordem(parametro2, parametro1):\n",
    "    print(f\"primeiro parametro {parametro1}\")\n",
    "    print(f\"segundo parametro {parametro2}\")"
   ]
  },
  {
   "cell_type": "code",
   "execution_count": 17,
   "id": "4b81c742",
   "metadata": {},
   "outputs": [
    {
     "name": "stdout",
     "output_type": "stream",
     "text": [
      "primeiro parametro p1\n",
      "segundo parametro p2\n"
     ]
    }
   ],
   "source": [
    "minhafuncaocomparametrosforadeordem(parametro2=\"p2\", parametro1=\"p1\")"
   ]
  },
  {
   "cell_type": "code",
   "execution_count": 18,
   "id": "cc9199ae",
   "metadata": {},
   "outputs": [
    {
     "name": "stdout",
     "output_type": "stream",
     "text": [
      "49\n"
     ]
    }
   ],
   "source": [
    "resultado = 2 + 3 * 4 ** 2 - 1\n",
    "print(resultado)  "
   ]
  },
  {
   "cell_type": "markdown",
   "id": "6125f223",
   "metadata": {},
   "source": [
    "Diferente do java, o python não permite concatenar sem conversão\n",
    "Se vier depois (print(\"idade: \" + idade)): TypeError: can only concatenate str (not \"int\") to str\n",
    "Se vier antes (print(idade + \"anos.\")): TypeError: unsupported operand type(s) for +: 'int' and 'str'"
   ]
  },
  {
   "cell_type": "code",
   "execution_count": 22,
   "id": "c322b139",
   "metadata": {},
   "outputs": [
    {
     "ename": "TypeError",
     "evalue": "can only concatenate str (not \"int\") to str",
     "output_type": "error",
     "traceback": [
      "\u001b[1;31m---------------------------------------------------------------------------\u001b[0m",
      "\u001b[1;31mTypeError\u001b[0m                                 Traceback (most recent call last)",
      "\u001b[1;32mC:\\Users\\ADMINI~1\\AppData\\Local\\Temp/ipykernel_25108/2033902999.py\u001b[0m in \u001b[0;36m<module>\u001b[1;34m\u001b[0m\n\u001b[0;32m      1\u001b[0m \u001b[0midade\u001b[0m\u001b[1;33m=\u001b[0m\u001b[1;36m10\u001b[0m\u001b[1;33m\u001b[0m\u001b[1;33m\u001b[0m\u001b[0m\n\u001b[1;32m----> 2\u001b[1;33m \u001b[0mprint\u001b[0m\u001b[1;33m(\u001b[0m\u001b[1;34m\"idade: \"\u001b[0m \u001b[1;33m+\u001b[0m \u001b[0midade\u001b[0m\u001b[1;33m)\u001b[0m\u001b[1;33m\u001b[0m\u001b[1;33m\u001b[0m\u001b[0m\n\u001b[0m",
      "\u001b[1;31mTypeError\u001b[0m: can only concatenate str (not \"int\") to str"
     ]
    }
   ],
   "source": [
    "idade=10\n",
    "print(\"idade: \" + idade)"
   ]
  },
  {
   "cell_type": "code",
   "execution_count": 28,
   "id": "7a8d45a6",
   "metadata": {},
   "outputs": [
    {
     "ename": "TypeError",
     "evalue": "unsupported operand type(s) for +: 'int' and 'str'",
     "output_type": "error",
     "traceback": [
      "\u001b[1;31m---------------------------------------------------------------------------\u001b[0m",
      "\u001b[1;31mTypeError\u001b[0m                                 Traceback (most recent call last)",
      "\u001b[1;32mC:\\Users\\ADMINI~1\\AppData\\Local\\Temp/ipykernel_25108/2822250587.py\u001b[0m in \u001b[0;36m<module>\u001b[1;34m\u001b[0m\n\u001b[0;32m      1\u001b[0m \u001b[0midade\u001b[0m\u001b[1;33m=\u001b[0m\u001b[1;36m10\u001b[0m\u001b[1;33m\u001b[0m\u001b[1;33m\u001b[0m\u001b[0m\n\u001b[1;32m----> 2\u001b[1;33m \u001b[0mprint\u001b[0m\u001b[1;33m(\u001b[0m\u001b[0midade\u001b[0m \u001b[1;33m+\u001b[0m \u001b[1;34m\"anos.\"\u001b[0m\u001b[1;33m)\u001b[0m\u001b[1;33m\u001b[0m\u001b[1;33m\u001b[0m\u001b[0m\n\u001b[0m",
      "\u001b[1;31mTypeError\u001b[0m: unsupported operand type(s) for +: 'int' and 'str'"
     ]
    }
   ],
   "source": [
    "idade=10\n",
    "print(idade + \"anos.\")"
   ]
  },
  {
   "cell_type": "code",
   "execution_count": null,
   "id": "55a72f41",
   "metadata": {},
   "outputs": [],
   "source": [
    "É necessário o str()"
   ]
  },
  {
   "cell_type": "code",
   "execution_count": 29,
   "id": "718b32d9",
   "metadata": {},
   "outputs": [
    {
     "name": "stdout",
     "output_type": "stream",
     "text": [
      "idade: 10\n"
     ]
    }
   ],
   "source": [
    "print(\"idade: \" + str(idade))"
   ]
  },
  {
   "cell_type": "code",
   "execution_count": null,
   "id": "37c4809d",
   "metadata": {},
   "outputs": [],
   "source": [
    "Python não tem pré e nem pós incremento. \n",
    "Na tentativa de pré-encremento não dá erro de compilação, mas não adiciona  o valor. \n",
    "Ele encara o priemro + como concatenação e o segundo como sinal. \n",
    "No pósincremento dá erro de compilação. "
   ]
  },
  {
   "cell_type": "code",
   "execution_count": 30,
   "id": "17f6665b",
   "metadata": {},
   "outputs": [
    {
     "name": "stdout",
     "output_type": "stream",
     "text": [
      "idade: 10\n"
     ]
    }
   ],
   "source": [
    "idade=10\n",
    "++idade\n",
    "print(\"idade: \" + str(idade))"
   ]
  },
  {
   "cell_type": "code",
   "execution_count": 31,
   "id": "ef20d7ea",
   "metadata": {},
   "outputs": [
    {
     "ename": "SyntaxError",
     "evalue": "invalid syntax (Temp/ipykernel_25108/740916380.py, line 2)",
     "output_type": "error",
     "traceback": [
      "\u001b[1;36m  File \u001b[1;32m\"C:\\Users\\ADMINI~1\\AppData\\Local\\Temp/ipykernel_25108/740916380.py\"\u001b[1;36m, line \u001b[1;32m2\u001b[0m\n\u001b[1;33m    idade++\u001b[0m\n\u001b[1;37m           ^\u001b[0m\n\u001b[1;31mSyntaxError\u001b[0m\u001b[1;31m:\u001b[0m invalid syntax\n"
     ]
    }
   ],
   "source": [
    "idade=10\n",
    "idade++\n",
    "print(\"idade: \" + str(idade))"
   ]
  },
  {
   "cell_type": "code",
   "execution_count": null,
   "id": "57e5f183",
   "metadata": {},
   "outputs": [],
   "source": []
  }
 ],
 "metadata": {
  "kernelspec": {
   "display_name": "Python 3 (ipykernel)",
   "language": "python",
   "name": "python3"
  },
  "language_info": {
   "codemirror_mode": {
    "name": "ipython",
    "version": 3
   },
   "file_extension": ".py",
   "mimetype": "text/x-python",
   "name": "python",
   "nbconvert_exporter": "python",
   "pygments_lexer": "ipython3",
   "version": "3.9.7"
  }
 },
 "nbformat": 4,
 "nbformat_minor": 5
}
