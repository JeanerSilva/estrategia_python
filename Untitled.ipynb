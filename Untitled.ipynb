{
 "cells": [
  {
   "cell_type": "markdown",
   "id": "147fbb4b",
   "metadata": {},
   "source": [
    "#1. A função sempre tem que ter parêntesis, tanto na hora de declarar quanto na hora de chamar:"
   ]
  },
  {
   "cell_type": "code",
   "execution_count": 4,
   "id": "06d06f71",
   "metadata": {},
   "outputs": [],
   "source": [
    "def minhafuncao():\n",
    "    print('executa')"
   ]
  },
  {
   "cell_type": "code",
   "execution_count": 7,
   "id": "5a761255",
   "metadata": {},
   "outputs": [
    {
     "name": "stdout",
     "output_type": "stream",
     "text": [
      "executa\n"
     ]
    }
   ],
   "source": [
    "minhafuncao()"
   ]
  },
  {
   "cell_type": "markdown",
   "id": "cb5ec5a1",
   "metadata": {},
   "source": [
    "Python permite que os parâmetros:\n",
    "a) venham fora de ordem\n",
    "b) não precisem ser especificados na cabeça da função"
   ]
  },
  {
   "cell_type": "code",
   "execution_count": 11,
   "id": "6a642dff",
   "metadata": {},
   "outputs": [],
   "source": [
    "def funcaokwargs(**kwargs):\n",
    "    primeiro = kwargs.get(\"primeiro\")\n",
    "    segundo = kwargs.get(\"segundo\")\n",
    "    print(f\"primeiro parametro: {primeiro}\")\n",
    "    print(f\"segundo parametro: {segundo}\")"
   ]
  },
  {
   "cell_type": "code",
   "execution_count": 13,
   "id": "28bf04bf",
   "metadata": {},
   "outputs": [
    {
     "name": "stdout",
     "output_type": "stream",
     "text": [
      "primeiro parametro: p1\n",
      "segundo parametro: p2\n"
     ]
    }
   ],
   "source": [
    "funcaokwargs(segundo = \"p2\", primeiro = \"p1\")"
   ]
  },
  {
   "cell_type": "markdown",
   "id": "13eac87d",
   "metadata": {},
   "source": [
    "É possível sem o kwargs, desde que todos sejam espeficicados"
   ]
  },
  {
   "cell_type": "code",
   "execution_count": 15,
   "id": "42c1b16a",
   "metadata": {},
   "outputs": [],
   "source": [
    "def minhafuncaocomparametrosforadeordem(parametro2, parametro1):\n",
    "    print(f\"primeiro parametro {parametro1}\")\n",
    "    print(f\"segundo parametro {parametro2}\")"
   ]
  },
  {
   "cell_type": "code",
   "execution_count": null,
   "id": "8bffa3b8",
   "metadata": {},
   "outputs": [],
   "source": [
    "minhafuncaocomparametrosforadeordem()"
   ]
  }
 ],
 "metadata": {
  "kernelspec": {
   "display_name": "Python 3 (ipykernel)",
   "language": "python",
   "name": "python3"
  },
  "language_info": {
   "codemirror_mode": {
    "name": "ipython",
    "version": 3
   },
   "file_extension": ".py",
   "mimetype": "text/x-python",
   "name": "python",
   "nbconvert_exporter": "python",
   "pygments_lexer": "ipython3",
   "version": "3.9.7"
  }
 },
 "nbformat": 4,
 "nbformat_minor": 5
}
