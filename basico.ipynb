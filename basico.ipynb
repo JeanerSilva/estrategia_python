{
 "cells": [
  {
   "cell_type": "markdown",
   "id": "e0e7201d",
   "metadata": {},
   "source": [
    "# Python"
   ]
  },
  {
   "cell_type": "markdown",
   "id": "43176b54",
   "metadata": {},
   "source": [
    "#### A função sempre tem que ter parêntesis, tanto na hora de declarar quanto na hora de chamar:"
   ]
  },
  {
   "cell_type": "code",
   "execution_count": 4,
   "id": "f689656f",
   "metadata": {},
   "outputs": [],
   "source": [
    "def minhafuncao():\n",
    "    print('executa')"
   ]
  },
  {
   "cell_type": "code",
   "execution_count": 7,
   "id": "d3dc1c17",
   "metadata": {},
   "outputs": [
    {
     "name": "stdout",
     "output_type": "stream",
     "text": [
      "executa\n"
     ]
    }
   ],
   "source": [
    "minhafuncao()"
   ]
  },
  {
   "cell_type": "markdown",
   "id": "ebe221e5",
   "metadata": {},
   "source": [
    "Python permite que os parâmetros:\n",
    "a) venham fora de ordem\n",
    "b) não precisem ser especificados na cabeça da função"
   ]
  },
  {
   "cell_type": "code",
   "execution_count": 11,
   "id": "c89f9ec3",
   "metadata": {},
   "outputs": [],
   "source": [
    "def funcaokwargs(**kwargs):\n",
    "    primeiro = kwargs.get(\"primeiro\")\n",
    "    segundo = kwargs.get(\"segundo\")\n",
    "    print(f\"primeiro parametro: {primeiro}\")\n",
    "    print(f\"segundo parametro: {segundo}\")"
   ]
  },
  {
   "cell_type": "code",
   "execution_count": 13,
   "id": "51aa3f6a",
   "metadata": {},
   "outputs": [
    {
     "name": "stdout",
     "output_type": "stream",
     "text": [
      "primeiro parametro: p1\n",
      "segundo parametro: p2\n"
     ]
    }
   ],
   "source": [
    "funcaokwargs(segundo = \"p2\", primeiro = \"p1\")"
   ]
  },
  {
   "cell_type": "markdown",
   "id": "55661c6e",
   "metadata": {},
   "source": [
    "É possível sem o kwargs, desde que todos sejam espeficicados"
   ]
  },
  {
   "cell_type": "code",
   "execution_count": 15,
   "id": "a42232b6",
   "metadata": {},
   "outputs": [],
   "source": [
    "def minhafuncaocomparametrosforadeordem(parametro2, parametro1):\n",
    "    print(f\"primeiro parametro {parametro1}\")\n",
    "    print(f\"segundo parametro {parametro2}\")"
   ]
  },
  {
   "cell_type": "code",
   "execution_count": 17,
   "id": "c4d8ef86",
   "metadata": {},
   "outputs": [
    {
     "name": "stdout",
     "output_type": "stream",
     "text": [
      "primeiro parametro p1\n",
      "segundo parametro p2\n"
     ]
    }
   ],
   "source": [
    "minhafuncaocomparametrosforadeordem(parametro2=\"p2\", parametro1=\"p1\")"
   ]
  },
  {
   "cell_type": "markdown",
   "id": "2978df32",
   "metadata": {},
   "source": [
    "# Precedência"
   ]
  },
  {
   "cell_type": "code",
   "execution_count": 77,
   "id": "5edbb972",
   "metadata": {},
   "outputs": [
    {
     "name": "stdout",
     "output_type": "stream",
     "text": [
      "27.0\n"
     ]
    }
   ],
   "source": [
    "# operadores de mesmo nível\n",
    "resultado = 3 * 6 / 2 * 3\n",
    "print(resultado)  "
   ]
  },
  {
   "cell_type": "code",
   "execution_count": 78,
   "id": "64fa9d06",
   "metadata": {},
   "outputs": [
    {
     "name": "stdout",
     "output_type": "stream",
     "text": [
      "3.0\n"
     ]
    }
   ],
   "source": [
    "# operadores de mesmo nível\n",
    "resultado = 3 * 6 / (2 * 3)\n",
    "print(resultado)  "
   ]
  },
  {
   "cell_type": "code",
   "execution_count": 18,
   "id": "d9c10068",
   "metadata": {},
   "outputs": [
    {
     "name": "stdout",
     "output_type": "stream",
     "text": [
      "49\n"
     ]
    }
   ],
   "source": [
    "resultado = 2 + 3 * 4 ** 2 - 1\n",
    "print(resultado)  "
   ]
  },
  {
   "cell_type": "markdown",
   "id": "b241f4f5",
   "metadata": {},
   "source": [
    "# Concatenação"
   ]
  },
  {
   "cell_type": "markdown",
   "id": "101e51a3",
   "metadata": {},
   "source": [
    "Diferente do java, o python não permite concatenar sem conversão\n",
    "Se vier depois (print(\"idade: \" + idade)): TypeError: can only concatenate str (not \"int\") to str\n",
    "Se vier antes (print(idade + \"anos.\")): TypeError: unsupported operand type(s) for +: 'int' and 'str'"
   ]
  },
  {
   "cell_type": "code",
   "execution_count": 22,
   "id": "47fc05e7",
   "metadata": {},
   "outputs": [
    {
     "ename": "TypeError",
     "evalue": "can only concatenate str (not \"int\") to str",
     "output_type": "error",
     "traceback": [
      "\u001b[1;31m---------------------------------------------------------------------------\u001b[0m",
      "\u001b[1;31mTypeError\u001b[0m                                 Traceback (most recent call last)",
      "\u001b[1;32mC:\\Users\\ADMINI~1\\AppData\\Local\\Temp/ipykernel_25108/2033902999.py\u001b[0m in \u001b[0;36m<module>\u001b[1;34m\u001b[0m\n\u001b[0;32m      1\u001b[0m \u001b[0midade\u001b[0m\u001b[1;33m=\u001b[0m\u001b[1;36m10\u001b[0m\u001b[1;33m\u001b[0m\u001b[1;33m\u001b[0m\u001b[0m\n\u001b[1;32m----> 2\u001b[1;33m \u001b[0mprint\u001b[0m\u001b[1;33m(\u001b[0m\u001b[1;34m\"idade: \"\u001b[0m \u001b[1;33m+\u001b[0m \u001b[0midade\u001b[0m\u001b[1;33m)\u001b[0m\u001b[1;33m\u001b[0m\u001b[1;33m\u001b[0m\u001b[0m\n\u001b[0m",
      "\u001b[1;31mTypeError\u001b[0m: can only concatenate str (not \"int\") to str"
     ]
    }
   ],
   "source": [
    "idade=10\n",
    "print(\"idade: \" + idade)"
   ]
  },
  {
   "cell_type": "code",
   "execution_count": 28,
   "id": "25d39794",
   "metadata": {},
   "outputs": [
    {
     "ename": "TypeError",
     "evalue": "unsupported operand type(s) for +: 'int' and 'str'",
     "output_type": "error",
     "traceback": [
      "\u001b[1;31m---------------------------------------------------------------------------\u001b[0m",
      "\u001b[1;31mTypeError\u001b[0m                                 Traceback (most recent call last)",
      "\u001b[1;32mC:\\Users\\ADMINI~1\\AppData\\Local\\Temp/ipykernel_25108/2822250587.py\u001b[0m in \u001b[0;36m<module>\u001b[1;34m\u001b[0m\n\u001b[0;32m      1\u001b[0m \u001b[0midade\u001b[0m\u001b[1;33m=\u001b[0m\u001b[1;36m10\u001b[0m\u001b[1;33m\u001b[0m\u001b[1;33m\u001b[0m\u001b[0m\n\u001b[1;32m----> 2\u001b[1;33m \u001b[0mprint\u001b[0m\u001b[1;33m(\u001b[0m\u001b[0midade\u001b[0m \u001b[1;33m+\u001b[0m \u001b[1;34m\"anos.\"\u001b[0m\u001b[1;33m)\u001b[0m\u001b[1;33m\u001b[0m\u001b[1;33m\u001b[0m\u001b[0m\n\u001b[0m",
      "\u001b[1;31mTypeError\u001b[0m: unsupported operand type(s) for +: 'int' and 'str'"
     ]
    }
   ],
   "source": [
    "idade=10\n",
    "print(idade + \"anos.\")"
   ]
  },
  {
   "cell_type": "markdown",
   "id": "5f1d6c36",
   "metadata": {},
   "source": [
    "É necessário o str()"
   ]
  },
  {
   "cell_type": "code",
   "execution_count": 29,
   "id": "90131410",
   "metadata": {},
   "outputs": [
    {
     "name": "stdout",
     "output_type": "stream",
     "text": [
      "idade: 10\n"
     ]
    }
   ],
   "source": [
    "print(\"idade: \" + str(idade))"
   ]
  },
  {
   "cell_type": "markdown",
   "id": "98c9f0d0",
   "metadata": {},
   "source": [
    "Python não tem pré e nem pós incremento. \n",
    "Na tentativa de pré-encremento não dá erro de compilação, mas não adiciona  o valor. \n",
    "Ele encara o priemro + como concatenação e o segundo como sinal. \n",
    "No pósincremento dá erro de compilação. "
   ]
  },
  {
   "cell_type": "code",
   "execution_count": 30,
   "id": "98b44c75",
   "metadata": {},
   "outputs": [
    {
     "name": "stdout",
     "output_type": "stream",
     "text": [
      "idade: 10\n"
     ]
    }
   ],
   "source": [
    "idade=10\n",
    "++idade\n",
    "print(\"idade: \" + str(idade))"
   ]
  },
  {
   "cell_type": "code",
   "execution_count": 31,
   "id": "b50358ac",
   "metadata": {},
   "outputs": [
    {
     "ename": "SyntaxError",
     "evalue": "invalid syntax (Temp/ipykernel_25108/740916380.py, line 2)",
     "output_type": "error",
     "traceback": [
      "\u001b[1;36m  File \u001b[1;32m\"C:\\Users\\ADMINI~1\\AppData\\Local\\Temp/ipykernel_25108/740916380.py\"\u001b[1;36m, line \u001b[1;32m2\u001b[0m\n\u001b[1;33m    idade++\u001b[0m\n\u001b[1;37m           ^\u001b[0m\n\u001b[1;31mSyntaxError\u001b[0m\u001b[1;31m:\u001b[0m invalid syntax\n"
     ]
    }
   ],
   "source": [
    "idade=10\n",
    "idade++\n",
    "print(\"idade: \" + str(idade))"
   ]
  },
  {
   "cell_type": "markdown",
   "id": "753265d4",
   "metadata": {},
   "source": [
    "A multiplicação, no entanto, permite multiplicar strings"
   ]
  },
  {
   "cell_type": "code",
   "execution_count": 32,
   "id": "ed97c31e",
   "metadata": {},
   "outputs": [
    {
     "name": "stdout",
     "output_type": "stream",
     "text": [
      "repitarepitarepita\n"
     ]
    }
   ],
   "source": [
    "print(\"repita\" * 3)"
   ]
  },
  {
   "cell_type": "markdown",
   "id": "f6297ad6",
   "metadata": {},
   "source": [
    "O Python é zerobased"
   ]
  },
  {
   "cell_type": "code",
   "execution_count": 33,
   "id": "de428e6c",
   "metadata": {},
   "outputs": [
    {
     "name": "stdout",
     "output_type": "stream",
     "text": [
      "z\n"
     ]
    }
   ],
   "source": [
    "nome=\"zerobased\"\n",
    "print(nome[0])"
   ]
  },
  {
   "cell_type": "markdown",
   "id": "b5ef6e8a",
   "metadata": {},
   "source": [
    "O operador 'in' serve para procurar substrings, mas retorna apenas falso ou verdadeiro"
   ]
  },
  {
   "cell_type": "code",
   "execution_count": 35,
   "id": "b0ed8464",
   "metadata": {},
   "outputs": [
    {
     "name": "stdout",
     "output_type": "stream",
     "text": [
      "True\n"
     ]
    }
   ],
   "source": [
    "nome=\"zerobased\"\n",
    "print (\"r\" in nome)"
   ]
  },
  {
   "cell_type": "markdown",
   "id": "f5b11284",
   "metadata": {},
   "source": [
    "Já o find indica o primeiro elemento em que a substring é encontrada"
   ]
  },
  {
   "cell_type": "code",
   "execution_count": 37,
   "id": "49ffd7d2",
   "metadata": {},
   "outputs": [
    {
     "name": "stdout",
     "output_type": "stream",
     "text": [
      "2\n"
     ]
    }
   ],
   "source": [
    "nome=\"zerobased\"\n",
    "print (nome.find(\"ro\"))"
   ]
  },
  {
   "cell_type": "markdown",
   "id": "c981fc37",
   "metadata": {},
   "source": [
    "Se não for encontrado o resultado é '-1'"
   ]
  },
  {
   "cell_type": "code",
   "execution_count": 51,
   "id": "ab63eaf6",
   "metadata": {},
   "outputs": [
    {
     "name": "stdout",
     "output_type": "stream",
     "text": [
      "-1\n"
     ]
    }
   ],
   "source": [
    "nome=\"zerobased\"\n",
    "print (nome.find(\"naotem\"))"
   ]
  },
  {
   "cell_type": "markdown",
   "id": "0164c0d7",
   "metadata": {},
   "source": [
    "## Alteração de texto.\n",
    "Split separa a string no indicador especificado, mas ele deixa de existir"
   ]
  },
  {
   "cell_type": "code",
   "execution_count": 38,
   "id": "a521af04",
   "metadata": {},
   "outputs": [
    {
     "name": "stdout",
     "output_type": "stream",
     "text": [
      "['st', 'ing']\n"
     ]
    }
   ],
   "source": [
    "nome=\"string\"\n",
    "print(nome.split('r'))"
   ]
  },
  {
   "cell_type": "markdown",
   "id": "0a741751",
   "metadata": {},
   "source": [
    "Strip retira espaços em branco"
   ]
  },
  {
   "cell_type": "code",
   "execution_count": 48,
   "id": "da6c22ef",
   "metadata": {},
   "outputs": [
    {
     "name": "stdout",
     "output_type": "stream",
     "text": [
      "   string\n",
      "string   \n",
      "string\n"
     ]
    }
   ],
   "source": [
    "nome=\"   string   \"\n",
    "print(nome.rstrip())\n",
    "print(nome.lstrip())\n",
    "print(nome.strip())"
   ]
  },
  {
   "cell_type": "markdown",
   "id": "121cbe03",
   "metadata": {},
   "source": [
    "As funções podem ser escritas em cascata"
   ]
  },
  {
   "cell_type": "code",
   "execution_count": 49,
   "id": "8973ace7",
   "metadata": {},
   "outputs": [
    {
     "name": "stdout",
     "output_type": "stream",
     "text": [
      "['   st', 'ing']\n"
     ]
    }
   ],
   "source": [
    "nome=\"   string   \"\n",
    "print(nome.rstrip().split('r'))"
   ]
  },
  {
   "cell_type": "markdown",
   "id": "efbbeea6",
   "metadata": {},
   "source": [
    "# Palavras reservadas"
   ]
  },
  {
   "cell_type": "code",
   "execution_count": 58,
   "id": "b5cae470",
   "metadata": {},
   "outputs": [
    {
     "name": "stdout",
     "output_type": "stream",
     "text": [
      "Operador 'and' verifica ambos\n"
     ]
    }
   ],
   "source": [
    "# and\n",
    "a=10\n",
    "b=2\n",
    "if (a==10 and b==2):\n",
    "    print(\"Operador 'and' verifica ambos\")"
   ]
  },
  {
   "cell_type": "code",
   "execution_count": 61,
   "id": "5ff23f70",
   "metadata": {},
   "outputs": [
    {
     "name": "stdout",
     "output_type": "stream",
     "text": [
      "1\n",
      "2\n",
      "3\n"
     ]
    }
   ],
   "source": [
    "# yeld unção especial que retorna um iterador, permitindo que você itere sobre um conjunto de \n",
    "# valores sem precisar armazenar todos eles na memória de uma só vez.\n",
    "\n",
    "\n",
    "def gerador():\n",
    "    yield 1\n",
    "    yield 2\n",
    "    yield 3\n",
    "\n",
    "# Criando um objeto gerador\n",
    "meu_gerador = gerador()\n",
    "\n",
    "# Iterando sobre os valores gerados\n",
    "for valor in meu_gerador:\n",
    "    print(valor)"
   ]
  },
  {
   "cell_type": "markdown",
   "id": "24f7144c",
   "metadata": {},
   "source": [
    "Em Python, a palavra-chave finally é usada em conjunto com as declarações try e except para definir um bloco de código que será executado independentemente de ocorrer ou não uma exceção.\n",
    "\n",
    "E a 'pass' permite ignorar parte do código\n",
    "\n",
    "A estrutura geral é a seguinte:"
   ]
  },
  {
   "cell_type": "code",
   "execution_count": 63,
   "id": "5009a14a",
   "metadata": {},
   "outputs": [],
   "source": [
    "try:\n",
    "    # Código que pode gerar uma exceção\n",
    "    pass\n",
    "except Excecao:\n",
    "    # Tratamento da exceção\n",
    "    pass\n",
    "finally:\n",
    "    # Código a ser executado independentemente de ocorrer uma exceção ou não\n",
    "    pass"
   ]
  },
  {
   "cell_type": "code",
   "execution_count": 64,
   "id": "58b921cb",
   "metadata": {},
   "outputs": [
    {
     "name": "stdout",
     "output_type": "stream",
     "text": [
      "O arquivo não foi encontrado.\n"
     ]
    },
    {
     "ename": "NameError",
     "evalue": "name 'arquivo' is not defined",
     "output_type": "error",
     "traceback": [
      "\u001b[1;31m---------------------------------------------------------------------------\u001b[0m",
      "\u001b[1;31mNameError\u001b[0m                                 Traceback (most recent call last)",
      "\u001b[1;32mC:\\Users\\ADMINI~1\\AppData\\Local\\Temp/ipykernel_25108/3767123409.py\u001b[0m in \u001b[0;36m<module>\u001b[1;34m\u001b[0m\n\u001b[0;32m      5\u001b[0m     \u001b[0mprint\u001b[0m\u001b[1;33m(\u001b[0m\u001b[1;34m\"O arquivo não foi encontrado.\"\u001b[0m\u001b[1;33m)\u001b[0m\u001b[1;33m\u001b[0m\u001b[1;33m\u001b[0m\u001b[0m\n\u001b[0;32m      6\u001b[0m \u001b[1;32mfinally\u001b[0m\u001b[1;33m:\u001b[0m\u001b[1;33m\u001b[0m\u001b[1;33m\u001b[0m\u001b[0m\n\u001b[1;32m----> 7\u001b[1;33m     \u001b[0marquivo\u001b[0m\u001b[1;33m.\u001b[0m\u001b[0mclose\u001b[0m\u001b[1;33m(\u001b[0m\u001b[1;33m)\u001b[0m  \u001b[1;31m# Garante que o arquivo seja fechado, ocorra ou não uma exceção\u001b[0m\u001b[1;33m\u001b[0m\u001b[1;33m\u001b[0m\u001b[0m\n\u001b[0m",
      "\u001b[1;31mNameError\u001b[0m: name 'arquivo' is not defined"
     ]
    }
   ],
   "source": [
    "try:\n",
    "    arquivo = open(\"arquivo.txt\", \"r\")\n",
    "    # Processamento do arquivo\n",
    "except FileNotFoundError:\n",
    "    print(\"O arquivo não foi encontrado.\")\n",
    "finally:\n",
    "    arquivo.close()  # Garante que o arquivo seja fechado, ocorra ou não uma exceção"
   ]
  },
  {
   "cell_type": "code",
   "execution_count": 66,
   "id": "d2ab700e",
   "metadata": {},
   "outputs": [
    {
     "ename": "NameError",
     "evalue": "name 'variavel' is not defined",
     "output_type": "error",
     "traceback": [
      "\u001b[1;31m---------------------------------------------------------------------------\u001b[0m",
      "\u001b[1;31mNameError\u001b[0m                                 Traceback (most recent call last)",
      "\u001b[1;32mC:\\Users\\ADMINI~1\\AppData\\Local\\Temp/ipykernel_25108/661385195.py\u001b[0m in \u001b[0;36m<module>\u001b[1;34m\u001b[0m\n\u001b[0;32m      2\u001b[0m \u001b[0mvariavel\u001b[0m \u001b[1;33m=\u001b[0m \u001b[1;36m10\u001b[0m\u001b[1;33m\u001b[0m\u001b[1;33m\u001b[0m\u001b[0m\n\u001b[0;32m      3\u001b[0m \u001b[1;32mdel\u001b[0m \u001b[0mvariavel\u001b[0m\u001b[1;33m\u001b[0m\u001b[1;33m\u001b[0m\u001b[0m\n\u001b[1;32m----> 4\u001b[1;33m \u001b[0mprint\u001b[0m \u001b[1;33m(\u001b[0m\u001b[0mvariavel\u001b[0m\u001b[1;33m)\u001b[0m\u001b[1;33m\u001b[0m\u001b[1;33m\u001b[0m\u001b[0m\n\u001b[0m",
      "\u001b[1;31mNameError\u001b[0m: name 'variavel' is not defined"
     ]
    }
   ],
   "source": [
    "# del apaga variáveis da memória freemem()\n",
    "variavel = 10\n",
    "del variavel\n",
    "print (variavel)"
   ]
  },
  {
   "cell_type": "code",
   "execution_count": 67,
   "id": "86891ba4",
   "metadata": {},
   "outputs": [
    {
     "name": "stdout",
     "output_type": "stream",
     "text": [
      "4\n"
     ]
    }
   ],
   "source": [
    "lista = [1, 2, 3, 4, 5]\n",
    "del lista[2]\n",
    "print(lista[2])"
   ]
  },
  {
   "cell_type": "markdown",
   "id": "c4b987f6",
   "metadata": {},
   "source": [
    "# Lambda"
   ]
  },
  {
   "cell_type": "code",
   "execution_count": 68,
   "id": "1fa5a632",
   "metadata": {},
   "outputs": [
    {
     "name": "stdout",
     "output_type": "stream",
     "text": [
      "8\n"
     ]
    }
   ],
   "source": [
    "soma = lambda x, y: x + y\n",
    "resultado = soma(3, 5)\n",
    "print(resultado)  # Saída: 8"
   ]
  },
  {
   "cell_type": "code",
   "execution_count": null,
   "id": "4c93a87f",
   "metadata": {},
   "outputs": [],
   "source": []
  },
  {
   "cell_type": "code",
   "execution_count": 82,
   "id": "020bf745",
   "metadata": {},
   "outputs": [
    {
     "name": "stdout",
     "output_type": "stream",
     "text": [
      "[2, 4, 6, 8, 10]\n"
     ]
    }
   ],
   "source": [
    "# lambda com filter\n",
    "numeros = [1, 2, 3, 4, 5, 6, 7, 8, 9, 10]\n",
    "\n",
    "# Filtrar apenas os números pares\n",
    "numeros_pares = list(filter(lambda x: x % 2 == 0, numeros))\n",
    "print(numeros_pares)  # Saída: [2, 4, 6, 8, 10]"
   ]
  },
  {
   "cell_type": "code",
   "execution_count": 70,
   "id": "8eed563c",
   "metadata": {},
   "outputs": [
    {
     "name": "stdout",
     "output_type": "stream",
     "text": [
      "[1, 4, 9, 16, 25]\n"
     ]
    }
   ],
   "source": [
    "# lambda com map\n",
    "numeros = [1, 2, 3, 4, 5]\n",
    "\n",
    "# Elevar ao quadrado todos os números da lista\n",
    "quadrados = list(map(lambda x: x ** 2, numeros))\n",
    "print(quadrados)  "
   ]
  },
  {
   "cell_type": "code",
   "execution_count": 81,
   "id": "e2bfa19a",
   "metadata": {},
   "outputs": [
    {
     "name": "stdout",
     "output_type": "stream",
     "text": [
      "120\n"
     ]
    }
   ],
   "source": [
    "# lambda com reduce e utilização do 'as'\n",
    "from functools import reduce as nomequecrieiparaafuncaoreduce\n",
    "\n",
    "numeros = [1, 2, 3, 4, 5]\n",
    "\n",
    "# Calcular o produto de todos os números da lista\n",
    "produto = nomequecrieiparaafuncaoreduce(lambda x, y: x * y, numeros)\n",
    "print(produto)  "
   ]
  },
  {
   "cell_type": "code",
   "execution_count": null,
   "id": "2c482e95",
   "metadata": {},
   "outputs": [],
   "source": []
  },
  {
   "cell_type": "code",
   "execution_count": null,
   "id": "c9063b81",
   "metadata": {},
   "outputs": [],
   "source": []
  },
  {
   "cell_type": "code",
   "execution_count": null,
   "id": "49ef295a",
   "metadata": {},
   "outputs": [],
   "source": []
  }
 ],
 "metadata": {
  "kernelspec": {
   "display_name": "Python 3 (ipykernel)",
   "language": "python",
   "name": "python3"
  },
  "language_info": {
   "codemirror_mode": {
    "name": "ipython",
    "version": 3
   },
   "file_extension": ".py",
   "mimetype": "text/x-python",
   "name": "python",
   "nbconvert_exporter": "python",
   "pygments_lexer": "ipython3",
   "version": "3.9.7"
  }
 },
 "nbformat": 4,
 "nbformat_minor": 5
}
