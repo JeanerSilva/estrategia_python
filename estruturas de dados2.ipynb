{
 "cells": [
  {
   "cell_type": "code",
   "execution_count": 3,
   "metadata": {},
   "outputs": [
    {
     "name": "stdout",
     "output_type": "stream",
     "text": [
      "['nome', 'idade']\n",
      "[['primeiro', 'nome1 10'], ['segundo', 'nome2 2']]\n",
      "{'nome': ['primeiro', 'segundo'], 'idade': ['nome1 10', 'nome2 2']}\n"
     ]
    }
   ],
   "source": [
    "with open('arquivo.txt', 'r') as arquivo:\n",
    "    linhas = arquivo.readlines()\n",
    "\n",
    "# Remova caracteres de quebra de linha (\\n) e divida as linhas em colunas\n",
    "cabecalho = linhas[0].strip().split('\\t')\n",
    "print(cabecalho)\n",
    "dados = [linha.strip().split('\\t') for linha in linhas[1:]]\n",
    "print (dados)\n",
    "\n",
    "# Crie um dicionário usando compreensão de dicionário\n",
    "dicionario = {cabecalho[i]: [linha[i] for linha in dados] for i in range(len(cabecalho))}\n",
    "\n",
    "print(dicionario)"
   ]
  },
  {
   "cell_type": "code",
   "execution_count": 5,
   "metadata": {},
   "outputs": [
    {
     "name": "stdout",
     "output_type": "stream",
     "text": [
      "{'nome1': {'chegada': 'primeiro', 'idade': 10}, 'nome2': {'chegada': 'segundo', 'idade': 2}}\n"
     ]
    }
   ],
   "source": [
    "# Abrir o arquivo\n",
    "with open('arquivo.txt', 'r') as file:\n",
    "    # Ler as linhas do arquivo\n",
    "    linhas = file.readlines()\n",
    "\n",
    "# Inicializar o dicionário\n",
    "dicionario = {}\n",
    "\n",
    "# Processar as linhas do arquivo e criar o dicionário\n",
    "for linha in linhas[1:]:  # Ignorar a primeira linha com os cabeçalhos\n",
    "    valores = linha.split()  # Dividir a linha em valores usando espaço como separador\n",
    "    chegada = valores[0]\n",
    "    nome = valores[1]\n",
    "    idade = int(valores[2])  # Converter a idade para um número inteiro\n",
    "    dicionario[nome] = {'chegada': chegada, 'idade': idade}\n",
    "\n",
    "# Exibir o dicionário resultante\n",
    "print(dicionario)\n"
   ]
  },
  {
   "cell_type": "code",
   "execution_count": 82,
   "metadata": {},
   "outputs": [
    {
     "name": "stdout",
     "output_type": "stream",
     "text": [
      "lista = [1,'string',4,3,2] - cria a lista [1, 'string', 4, 3, 2]\n",
      "outra_lista = [7,7,7,7] - cria outra_lista [1, 'string', 4, 3, 2]\n",
      "lista.append(9) : adiciona o valor 9 na lista: [1, 'string', 4, 3, 2, 9]\n",
      "indice = lista.index(9): obtém o índice do valor 9 é: 5\n",
      "lista.remove(9): remove o 9: [1, 'string', 4, 3, 2]\n",
      "lista_reduzida = lista[2:4] - cria uma nova lista com os elementos 2 e 3 da lista: [4, 3]\n",
      "lista_reduzida2 = lista[2:4][-1] - cria uma nova lista com os elementos 2 e 3 da lista = [4, 3]: e pega o elemento [-1]: 3\n",
      "for item in lista: print('item: item') - itera a lista.\n",
      "\titem: 1, item: string, item: 4, item: 3, item: 2, \n",
      "for i, item in enumerate(lista): - itera a lista toda por item.\n",
      "\titem:0: valor: 1, item:1: valor: string, item:2: valor: 4, item:3: valor: 3, item:4: valor: 2, \n",
      "item2=lista[2] - atribui a uma variável da lista ([1, 'string', 4, 3, 2]) o item 2 da lista: 4\n",
      "lista[2] = 0 - troca o item 2 (4) por 0: [1, 'string', 0, 3, 2]\n",
      "lista.extend(outra_lista) - adiciona a lista [7, 7, 7, 7] ao final da lista: [1, 'string', 0, 3, 2, 7, 7, 7, 7]\n",
      "contagem = lista.count(7) -conta quantos valores 7 a lista tem:  4\n",
      "lista.append(string) : adiciona o valor string na lista: [1, 'string', 0, 3, 2, 7, 7, 7, 7, 'string']\n",
      "lista.remove('string') - remove o item 'string' da lista em sua primeira ocorrência: [1, 0, 3, 2, 7, 7, 7, 7, 'string']\n",
      "lista.pop() - remove o último elemento da lista: [1, 0, 3, 2, 7, 7, 7, 7]\n",
      "lista.pop(3) - remove o item 3 da lista: [1, 0, 3, 7, 7, 7, 7]\n",
      "lista.reverse() - reverte a ordem da lista: [7, 7, 7, 7, 3, 0, 1]\n",
      "lista.sort(reverse=False) - ordena a lista em ordem crescente: [0, 1, 3, 7, 7, 7, 7]\n",
      "lista.sort(reverse=True) - ordena a lista em ordem decrescente: [7, 7, 7, 7, 3, 1, 0]\n",
      "lista.clear() - limpa a lista: []\n"
     ]
    }
   ],
   "source": [
    "lista = [1,\"string\",4,3,2]\n",
    "print(f\"lista = [1,'string',4,3,2] - cria a lista {lista}\")\n",
    "\n",
    "outra_lista = [7,7,7,7]\n",
    "print(f\"outra_lista = [7,7,7,7] - cria outra_lista {lista}\")\n",
    "\n",
    "valor = 9\n",
    "lista.append(valor)\n",
    "print(f\"lista.append({valor}) : adiciona o valor {valor} na lista: {lista}\")\n",
    "\n",
    "indice = lista.index(valor)\n",
    "print(f\"indice = lista.index({valor}): obtém o índice do valor {valor} é: {indice}\")\n",
    "\n",
    "lista.remove(valor)\n",
    "print(f\"lista.remove({valor}): remove o {valor}: {lista}\")\n",
    "\n",
    "lista_reduzida = lista[2:4]\n",
    "print(f\"lista_reduzida = lista[2:4] - cria uma nova lista com os elementos 2 e 3 da lista: {lista_reduzida}\")\n",
    "\n",
    "elemento = -1\n",
    "lista_reduzida2 = lista[2:4][elemento]\n",
    "print(f\"lista_reduzida2 = lista[2:4][{elemento}] - cria uma nova lista com os elementos 2 e 3 da lista = {lista_reduzida}: e pega o elemento [{elemento}]: {lista_reduzida2}\")\n",
    "\n",
    "print(f\"for item in lista: print('item: item') - itera a lista.\\n\\t\", end='')\n",
    "for item in lista:\n",
    "    print(f\"item: {item},\", end=' ')\n",
    "    \n",
    "print(f\"\\nfor i, item in enumerate(lista): - itera a lista toda por item.\\n\\t\", end='')\n",
    "for i, item in enumerate(lista):\n",
    "    print(f\"item:{i}: valor: {item},\", end=' ')\n",
    "\n",
    "item2=lista[2]\n",
    "print(f\"\\nitem2=lista[2] - atribui a uma variável da lista ({lista}) o item 2 da lista: {item2}\")\n",
    "\n",
    "lista[2] = 0\n",
    "print(f\"lista[2] = 0 - troca o item 2 ({item2}) por 0: {lista}\")\n",
    "\n",
    "lista.extend(outra_lista)\n",
    "print(f\"lista.extend(outra_lista) - adiciona a lista {outra_lista} ao final da lista: {lista}\")\n",
    "\n",
    "contagem = lista.count(7)\n",
    "print(f\"contagem = lista.count(7) -conta quantos valores 7 a lista tem:  {contagem}\")\n",
    "\n",
    "valor=\"string\"\n",
    "lista.append(\"string\")\n",
    "print(f\"lista.append({valor}) : adiciona o valor {valor} na lista: {lista}\")\n",
    "\n",
    "lista.remove(\"string\")\n",
    "print(f\"lista.remove('string') - remove o item 'string' da lista em sua primeira ocorrência: {lista}\")\n",
    "\n",
    "lista.pop()\n",
    "print(f\"lista.pop() - remove o último elemento da lista: {lista}\")\n",
    "\n",
    "lista.pop(3)\n",
    "print(f\"lista.pop(3) - remove o item 3 da lista: {lista}\")\n",
    "\n",
    "lista.reverse()\n",
    "print(f\"lista.reverse() - reverte a ordem da lista: {lista}\")\n",
    "\n",
    "lista.sort(reverse=False)\n",
    "print(f\"lista.sort(reverse=False) - ordena a lista em ordem crescente: {lista}\")\n",
    "\n",
    "lista.sort(reverse=True)\n",
    "print(f\"lista.sort(reverse=True) - ordena a lista em ordem decrescente: {lista}\")\n",
    "\n",
    "lista.clear()\n",
    "print(f\"lista.clear() - limpa a lista: {lista}\")\n"
   ]
  },
  {
   "cell_type": "code",
   "execution_count": 78,
   "metadata": {},
   "outputs": [
    {
     "data": {
      "text/plain": [
       "[2, 5, 8]"
      ]
     },
     "execution_count": 78,
     "metadata": {},
     "output_type": "execute_result"
    }
   ],
   "source": [
    "lista = [0,1,2,3,4,5,6,7,8,9,10,7,4,5,6]\n",
    "c = lista[2:10:3]\n",
    "c"
   ]
  },
  {
   "cell_type": "code",
   "execution_count": 75,
   "metadata": {},
   "outputs": [
    {
     "ename": "SyntaxError",
     "evalue": "invalid syntax (Temp/ipykernel_7304/698981585.py, line 1)",
     "output_type": "error",
     "traceback": [
      "\u001b[1;36m  File \u001b[1;32m\"C:\\Users\\ADMINI~1\\AppData\\Local\\Temp/ipykernel_7304/698981585.py\"\u001b[1;36m, line \u001b[1;32m1\u001b[0m\n\u001b[1;33m    lista = [0,,3,4,5,6,7,8,9,10,7,4,5,6]\u001b[0m\n\u001b[1;37m               ^\u001b[0m\n\u001b[1;31mSyntaxError\u001b[0m\u001b[1;31m:\u001b[0m invalid syntax\n"
     ]
    }
   ],
   "source": [
    "lista = [0,,3,4,5,6,7,8,9,10,7,4,5,6]"
   ]
  },
  {
   "cell_type": "code",
   "execution_count": 76,
   "metadata": {},
   "outputs": [
    {
     "data": {
      "text/plain": [
       "[0.2, 3.0, 3, 4]"
      ]
     },
     "execution_count": 76,
     "metadata": {},
     "output_type": "execute_result"
    }
   ],
   "source": [
    "lista = [.2,3.,3,4]\n",
    "lista"
   ]
  },
  {
   "cell_type": "code",
   "execution_count": 83,
   "metadata": {},
   "outputs": [
    {
     "name": "stdout",
     "output_type": "stream",
     "text": [
      "[1, 2, 4, 5]\n"
     ]
    }
   ],
   "source": [
    "minha_lista = [1, 2, 3, 4, 3, 5]\n",
    "item = 3\n",
    "indice = 2  # Índice a partir do qual você deseja remover\n",
    "\n",
    "# Encontrar todas as ocorrências a partir do índice e removê-las\n",
    "for _ in range(minha_lista.count(item)):\n",
    "    if item in minha_lista[indice:]:\n",
    "        minha_lista.remove(item)\n",
    "\n",
    "print(minha_lista)\n"
   ]
  },
  {
   "cell_type": "markdown",
   "metadata": {},
   "source": [
    "    Listas:\n",
    "        list.count(): Retorna o número de ocorrências de um elemento na lista.\n",
    "        list.index(): Retorna o índice da primeira ocorrência de um elemento na lista.\n",
    "\n",
    "    Tuplas:\n",
    "        Não possui muitas funções específicas além das operações comuns.\n",
    "\n",
    "    Sets:\n",
    "        set.intersection(): Retorna a interseção de dois sets.\n",
    "        set.union(): Retorna a união de dois sets.\n",
    "\n",
    "    Dicionários:\n",
    "        dict.keys(): Retorna uma lista com todas as chaves do dicionário.\n",
    "        dict.values(): Retorna uma lista com todos os valores do dicionário.\n",
    "        dict.items(): Retorna uma lista de tuplas (chave, valor) do dicionário.\n",
    "\n",
    "    DataFrames (pandas):\n",
    "        df.describe(): Fornece estatísticas descritivas do DataFrame.\n",
    "        df.groupby(): Agrupa os dados com base em uma ou mais colunas.\n",
    "        df.merge(): Combina dois DataFrames com base em uma ou mais colunas.\n",
    "        "
   ]
  },
  {
   "cell_type": "markdown",
   "metadata": {},
   "source": [
    "# lista"
   ]
  },
  {
   "cell_type": "code",
   "execution_count": 85,
   "metadata": {},
   "outputs": [],
   "source": [
    "# Criar uma lista vazia\n",
    "minha_lista = []\n",
    "\n",
    "# Criar uma lista com elementos\n",
    "outra_lista = [1, 2, 3, 4, 5]\n"
   ]
  },
  {
   "cell_type": "markdown",
   "metadata": {},
   "source": []
  },
  {
   "cell_type": "code",
   "execution_count": 89,
   "metadata": {},
   "outputs": [
    {
     "data": {
      "text/plain": [
       "5"
      ]
     },
     "execution_count": 89,
     "metadata": {},
     "output_type": "execute_result"
    }
   ],
   "source": [
    "minha_lista = [1,2,3,4,5]\n",
    "\n",
    "# Acessar o primeiro elemento\n",
    "primeiro_elemento = minha_lista[0]\n",
    "\n",
    "# Acessar o último elemento\n",
    "ultimo_elemento = minha_lista[-1]\n",
    "ultimo_elemento\n"
   ]
  },
  {
   "cell_type": "code",
   "execution_count": 90,
   "metadata": {},
   "outputs": [],
   "source": [
    "\n",
    "# Adicionar um elemento ao final da lista\n",
    "minha_lista.append(6)\n",
    "\n",
    "# Adicionar vários elementos ao final da lista\n",
    "minha_lista.extend([7, 8, 9])\n"
   ]
  },
  {
   "cell_type": "code",
   "execution_count": 92,
   "metadata": {},
   "outputs": [
    {
     "data": {
      "text/plain": [
       "[1, 2, 10, 10, 3, 4, 5, 6, 7, 8, 9]"
      ]
     },
     "execution_count": 92,
     "metadata": {},
     "output_type": "execute_result"
    }
   ],
   "source": [
    "# Inserir um elemento na posição 2\n",
    "minha_lista.insert(2, 10)\n",
    "minha_lista "
   ]
  },
  {
   "cell_type": "code",
   "execution_count": 93,
   "metadata": {},
   "outputs": [],
   "source": [
    "# Remover o último elemento\n",
    "ultimo_elemento = minha_lista.pop()\n",
    "\n",
    "# Remover um elemento específico (primeira ocorrência)\n",
    "minha_lista.remove(5)\n",
    "\n",
    "# Remover um elemento em uma posição específica\n",
    "del minha_lista[2]\n"
   ]
  },
  {
   "cell_type": "code",
   "execution_count": null,
   "metadata": {},
   "outputs": [],
   "source": []
  }
 ],
 "metadata": {
  "kernelspec": {
   "display_name": "base",
   "language": "python",
   "name": "python3"
  },
  "language_info": {
   "codemirror_mode": {
    "name": "ipython",
    "version": 3
   },
   "file_extension": ".py",
   "mimetype": "text/x-python",
   "name": "python",
   "nbconvert_exporter": "python",
   "pygments_lexer": "ipython3",
   "version": "3.9.7"
  }
 },
 "nbformat": 4,
 "nbformat_minor": 2
}
