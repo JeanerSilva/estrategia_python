{
 "cells": [
  {
   "cell_type": "code",
   "execution_count": 1,
   "metadata": {},
   "outputs": [
    {
     "name": "stdout",
     "output_type": "stream",
     "text": [
      "<class 'list'>\n",
      "<class 'numpy.ndarray'>\n"
     ]
    }
   ],
   "source": [
    "import numpy as np\n",
    "\n",
    "lista = [1,2,3,4]\n",
    "print(type(lista))\n",
    "\n",
    "np_lista = np.array(lista)\n",
    "print(type(np_lista))"
   ]
  },
  {
   "cell_type": "code",
   "execution_count": 2,
   "metadata": {},
   "outputs": [
    {
     "name": "stdout",
     "output_type": "stream",
     "text": [
      "[4, 6, 8]\n"
     ]
    }
   ],
   "source": [
    "a = [2,3,4]\n",
    "\n",
    "a_dobrado = [x * 2 for x in a]\n",
    "print (a_dobrado)"
   ]
  },
  {
   "cell_type": "code",
   "execution_count": 3,
   "metadata": {},
   "outputs": [
    {
     "name": "stdout",
     "output_type": "stream",
     "text": [
      "[4 6 8]\n"
     ]
    }
   ],
   "source": [
    "a = [2,3,4]\n",
    "\n",
    "np_a = np.array(a)\n",
    "np_a_dobrado = np_a * 2\n",
    "print(np_a_dobrado)\n"
   ]
  },
  {
   "cell_type": "code",
   "execution_count": 4,
   "metadata": {},
   "outputs": [
    {
     "name": "stdout",
     "output_type": "stream",
     "text": [
      "6.0\n"
     ]
    }
   ],
   "source": [
    "print(np_a_dobrado.mean())"
   ]
  },
  {
   "cell_type": "code",
   "execution_count": 5,
   "metadata": {},
   "outputs": [
    {
     "name": "stdout",
     "output_type": "stream",
     "text": [
      "8\n"
     ]
    }
   ],
   "source": [
    "print(np_a_dobrado.max())"
   ]
  },
  {
   "cell_type": "code",
   "execution_count": 6,
   "metadata": {},
   "outputs": [
    {
     "name": "stdout",
     "output_type": "stream",
     "text": [
      "4\n"
     ]
    }
   ],
   "source": [
    "print(np_a_dobrado.min())"
   ]
  },
  {
   "cell_type": "code",
   "execution_count": 14,
   "metadata": {},
   "outputs": [
    {
     "name": "stdout",
     "output_type": "stream",
     "text": [
      "A soma das idades é 213.0\n",
      "A média das idades é 42.6\n",
      "A média das idades é 42.6\n",
      "A média das idades é 42.6\n",
      "A forma é (5,)\n",
      "Essa matriz possui 1 dimensão\n"
     ]
    }
   ],
   "source": [
    "import numpy as np\n",
    "anos_de_nascimento = np.loadtxt(\"nascimentos.txt\")\n",
    "idades = 2024 - anos_de_nascimento\n",
    "print(f\"A soma das idades é {idades.sum()}\" )\n",
    "print(f\"A média das idades é {idades.sum()/idades.size}\" )\n",
    "print(f\"A média das idades é {idades.mean()}\" )\n",
    "print(f\"A média das idades é {np.average(idades)}\" )\n",
    "print(f\"A forma é {np.shape(idades)}\" )\n",
    "print(f\"Essa matriz possui {np.ndim(idades)} {'dimensões' if np.ndim(idades) > 1 else 'dimensão'}\" )\n"
   ]
  },
  {
   "cell_type": "code",
   "execution_count": 20,
   "metadata": {},
   "outputs": [
    {
     "name": "stdout",
     "output_type": "stream",
     "text": [
      "[1, 2, 3, 'string']\n",
      "['1' '2' '3' 'string']\n"
     ]
    }
   ],
   "source": [
    "# A estrutura usando nd_array, feita em numpy deve ser homogênea\n",
    "\n",
    "a = [1,2,3, \"string\"]\n",
    "print(a)\n",
    "\n",
    "# Se houver string ele converte todos para string\n",
    "b = np.array(a)\n",
    "print(b)"
   ]
  },
  {
   "cell_type": "code",
   "execution_count": 28,
   "metadata": {},
   "outputs": [
    {
     "name": "stdout",
     "output_type": "stream",
     "text": [
      "range(0, 10000)\n",
      "5.9658284187316895\n",
      "0.0725698471069336\n"
     ]
    }
   ],
   "source": [
    "import numpy as np\n",
    "import time\n",
    "\n",
    "\n",
    "inicio = time.time()\n",
    "total = 10000\n",
    "lista_python = range (total)\n",
    "print (lista_python)\n",
    "for i in range(total):\n",
    "    resultado = [x * 2 for x in lista_python]\n",
    "print(time.time() - inicio)\n",
    "\n",
    "inicio = time.time()\n",
    "np_array = np.arange(total)\n",
    "for x in range(total):\n",
    "    np_array *= 2\n",
    "print(time.time() - inicio)\n",
    "\n"
   ]
  },
  {
   "cell_type": "code",
   "execution_count": 29,
   "metadata": {},
   "outputs": [
    {
     "data": {
      "text/plain": [
       "array([10, 20, 30])"
      ]
     },
     "execution_count": 29,
     "metadata": {},
     "output_type": "execute_result"
    }
   ],
   "source": [
    "# para criar direto tem que informmar apenas um argumento, no caso uma lista com colchetes\n",
    "a = np.array([10, 20, 30])\n",
    "a"
   ]
  },
  {
   "cell_type": "code",
   "execution_count": 36,
   "metadata": {},
   "outputs": [
    {
     "name": "stdout",
     "output_type": "stream",
     "text": [
      "Array a partir de lista: [1 2 3 4 5]\n",
      "Array usando arange: [ 0  2  4  6  8 10 12 14]\n",
      "Array após reshape: [[ 0  2]\n",
      " [ 4  6]\n",
      " [ 8 10]\n",
      " [12 14]]\n",
      "Array de zeros: [[0. 0. 0.]\n",
      " [0. 0. 0.]\n",
      " [0. 0. 0.]]\n",
      "Array ordenado: [1 1 2 3 3 4 5 5 5 6 9]\n",
      "Arrays concatenados: [1 2 3 4 5 6]\n",
      "Array convertido para lista: [7, 8, 9]\n"
     ]
    }
   ],
   "source": [
    "import numpy as np\n",
    "\n",
    "# Criando um array a partir de uma lista\n",
    "lista = [1, 2, 3, 4, 5]\n",
    "arr1 = np.array(lista)\n",
    "print(\"Array a partir de lista:\", arr1)\n",
    "\n",
    "# Criando um array usando arange\n",
    "arr2 = np.arange(0, 15, 2)  # Números de 0 a 10 (exclusive) com passo 2\n",
    "print(\"Array usando arange:\", arr2)\n",
    "\n",
    "# Reshape de um array\n",
    "arr3 = arr2.reshape(4, 2)\n",
    "print(\"Array após reshape:\", arr3)\n",
    "\n",
    "# Criando um array de zeros\n",
    "arr_zeros = np.zeros((3, 3))  # Array 3x3 preenchido com zeros\n",
    "print(\"Array de zeros:\", arr_zeros)\n",
    "\n",
    "# Ordenando um array\n",
    "arr4 = np.array([3, 1, 4, 1, 5, 9, 2, 6, 5, 3, 5])\n",
    "arr_sorted = np.sort(arr4)\n",
    "print(\"Array ordenado:\", arr_sorted)\n",
    "\n",
    "# Concatenando arrays\n",
    "arr5 = np.array([1, 2, 3])\n",
    "arr6 = np.array([4, 5, 6])\n",
    "arr_concatenated = np.concatenate((arr5, arr6))\n",
    "print(\"Arrays concatenados:\", arr_concatenated)\n",
    "\n",
    "# Convertendo um array para uma lista\n",
    "arr7 = np.array([7, 8, 9])\n",
    "lista_convertida = arr7.tolist()\n",
    "print(\"Array convertido para lista:\", lista_convertida)\n"
   ]
  },
  {
   "cell_type": "code",
   "execution_count": 44,
   "metadata": {},
   "outputs": [
    {
     "name": "stdout",
     "output_type": "stream",
     "text": [
      "[[1 2]\n",
      " [3 4]]\n",
      "array_2d[0][0]: 1\n",
      "array_2d[0][1]: 2\n",
      "array_2d[1][0]: 3\n",
      "array_2d[1][1]: 4\n"
     ]
    }
   ],
   "source": [
    "array_2d = np.array([[1,2], [3,4]])\n",
    "print(array_2d)\n",
    "print(f\"array_2d[0][0]: {array_2d[0][0]}\")\n",
    "print(f\"array_2d[0][1]: {array_2d[0][1]}\")\n",
    "print(f\"array_2d[1][0]: {array_2d[1][0]}\")\n",
    "print(f\"array_2d[1][1]: {array_2d[1][1]}\")"
   ]
  },
  {
   "cell_type": "code",
   "execution_count": 38,
   "metadata": {},
   "outputs": [
    {
     "data": {
      "text/plain": [
       "array([[2, 4],\n",
       "       [6, 8]])"
      ]
     },
     "execution_count": 38,
     "metadata": {},
     "output_type": "execute_result"
    }
   ],
   "source": [
    "array_2d * 2"
   ]
  },
  {
   "cell_type": "code",
   "execution_count": 39,
   "metadata": {},
   "outputs": [
    {
     "data": {
      "text/plain": [
       "array([[ 1,  4],\n",
       "       [ 9, 16]])"
      ]
     },
     "execution_count": 39,
     "metadata": {},
     "output_type": "execute_result"
    }
   ],
   "source": [
    "array_2d_2 = np.array([[1,2], [3,4]])\n",
    "array_2d * array_2d_2"
   ]
  },
  {
   "cell_type": "code",
   "execution_count": 45,
   "metadata": {},
   "outputs": [
    {
     "data": {
      "text/plain": [
       "array([[ 0,  1,  2,  3],\n",
       "       [ 4,  5,  6,  7],\n",
       "       [ 8,  9, 10, 11],\n",
       "       [12, 13, 14, 15],\n",
       "       [16, 17, 18, 19],\n",
       "       [20, 21, 22, 23],\n",
       "       [24, 25, 26, 27],\n",
       "       [28, 29, 30, 31],\n",
       "       [32, 33, 34, 35],\n",
       "       [36, 37, 38, 39],\n",
       "       [40, 41, 42, 43],\n",
       "       [44, 45, 46, 47],\n",
       "       [48, 49, 50, 51],\n",
       "       [52, 53, 54, 55],\n",
       "       [56, 57, 58, 59],\n",
       "       [60, 61, 62, 63]])"
      ]
     },
     "execution_count": 45,
     "metadata": {},
     "output_type": "execute_result"
    }
   ],
   "source": [
    "a = np.arange(64).reshape(16, 4)\n",
    "a"
   ]
  },
  {
   "cell_type": "code",
   "execution_count": 46,
   "metadata": {},
   "outputs": [
    {
     "data": {
      "text/plain": [
       "2"
      ]
     },
     "execution_count": 46,
     "metadata": {},
     "output_type": "execute_result"
    }
   ],
   "source": [
    "a.ndim"
   ]
  },
  {
   "cell_type": "code",
   "execution_count": 48,
   "metadata": {},
   "outputs": [
    {
     "data": {
      "text/plain": [
       "(16, 4)"
      ]
     },
     "execution_count": 48,
     "metadata": {},
     "output_type": "execute_result"
    }
   ],
   "source": [
    "a.shape"
   ]
  },
  {
   "cell_type": "code",
   "execution_count": 49,
   "metadata": {},
   "outputs": [
    {
     "data": {
      "text/plain": [
       "64"
      ]
     },
     "execution_count": 49,
     "metadata": {},
     "output_type": "execute_result"
    }
   ],
   "source": [
    "a.size"
   ]
  },
  {
   "cell_type": "code",
   "execution_count": 50,
   "metadata": {},
   "outputs": [
    {
     "data": {
      "text/plain": [
       "dtype('int32')"
      ]
     },
     "execution_count": 50,
     "metadata": {},
     "output_type": "execute_result"
    }
   ],
   "source": [
    "a.dtype"
   ]
  },
  {
   "cell_type": "code",
   "execution_count": 52,
   "metadata": {},
   "outputs": [
    {
     "data": {
      "text/plain": [
       "array([[[ 0,  1,  2,  3,  4],\n",
       "        [ 5,  6,  7,  8,  9],\n",
       "        [10, 11, 12, 13, 14],\n",
       "        [15, 16, 17, 18, 19]],\n",
       "\n",
       "       [[20, 21, 22, 23, 24],\n",
       "        [25, 26, 27, 28, 29],\n",
       "        [30, 31, 32, 33, 34],\n",
       "        [35, 36, 37, 38, 39]],\n",
       "\n",
       "       [[40, 41, 42, 43, 44],\n",
       "        [45, 46, 47, 48, 49],\n",
       "        [50, 51, 52, 53, 54],\n",
       "        [55, 56, 57, 58, 59]]])"
      ]
     },
     "execution_count": 52,
     "metadata": {},
     "output_type": "execute_result"
    }
   ],
   "source": [
    "#array 3d\n",
    "ddd = np.arange(60).reshape(3,4,5)\n",
    "ddd"
   ]
  },
  {
   "cell_type": "code",
   "execution_count": 53,
   "metadata": {},
   "outputs": [
    {
     "data": {
      "text/plain": [
       "(3, 4, 5)"
      ]
     },
     "execution_count": 53,
     "metadata": {},
     "output_type": "execute_result"
    }
   ],
   "source": [
    "ddd.shape\n",
    "# são 3 arrays (ndim) de 4 linhas e 5 colunas"
   ]
  },
  {
   "cell_type": "code",
   "execution_count": 56,
   "metadata": {},
   "outputs": [
    {
     "data": {
      "text/plain": [
       "array([16, 17, 18, 19, 20, 21, 22, 23, 24, 25, 26, 27, 28, 29, 30, 31, 32,\n",
       "       33, 34, 35, 36, 37, 38, 39, 40, 41, 42, 43, 44, 45, 46, 47, 48, 49,\n",
       "       50, 51, 52, 53, 54, 55, 56, 57, 58, 59])"
      ]
     },
     "execution_count": 56,
     "metadata": {},
     "output_type": "execute_result"
    }
   ],
   "source": [
    "s = ddd[ddd > 15]\n",
    "s\n",
    "# retorna um array unidimencional"
   ]
  },
  {
   "cell_type": "code",
   "execution_count": 68,
   "metadata": {},
   "outputs": [
    {
     "data": {
      "text/plain": [
       "array([[0., 0., 0., 0., 0.],\n",
       "       [0., 0., 0., 0., 0.],\n",
       "       [0., 0., 0., 0., 0.],\n",
       "       [0., 0., 0., 0., 0.]])"
      ]
     },
     "execution_count": 68,
     "metadata": {},
     "output_type": "execute_result"
    }
   ],
   "source": [
    "zeros = np.zeros((4,5))\n",
    "zeros"
   ]
  },
  {
   "cell_type": "code",
   "execution_count": 74,
   "metadata": {},
   "outputs": [
    {
     "data": {
      "text/plain": [
       "array([ 2,  4,  6,  8, 10, 12, 14, 16, 18, 20, 22, 24, 26, 28,  2,  5,  8,\n",
       "       11, 14, 17, 20, 23, 26, 29])"
      ]
     },
     "execution_count": 74,
     "metadata": {},
     "output_type": "execute_result"
    }
   ],
   "source": [
    "a = np.arange(2,30,2)\n",
    "b = np.arange(2,30,3)\n",
    "c = np.concatenate((a,b))\n",
    "c"
   ]
  },
  {
   "cell_type": "code",
   "execution_count": null,
   "metadata": {},
   "outputs": [],
   "source": []
  }
 ],
 "metadata": {
  "kernelspec": {
   "display_name": "base",
   "language": "python",
   "name": "python3"
  },
  "language_info": {
   "codemirror_mode": {
    "name": "ipython",
    "version": 3
   },
   "file_extension": ".py",
   "mimetype": "text/x-python",
   "name": "python",
   "nbconvert_exporter": "python",
   "pygments_lexer": "ipython3",
   "version": "3.9.7"
  }
 },
 "nbformat": 4,
 "nbformat_minor": 2
}
