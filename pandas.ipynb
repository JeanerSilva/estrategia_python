{
 "cells": [
  {
   "cell_type": "code",
   "execution_count": 1,
   "metadata": {},
   "outputs": [
    {
     "name": "stdout",
     "output_type": "stream",
     "text": [
      "    Nome  Idade          Cidade\n",
      "0   João     25       São Paulo\n",
      "1  Maria     30  Rio de Janeiro\n",
      "2  Pedro     18        Curitiba\n",
      "3    Ana     21        Salvador\n"
     ]
    }
   ],
   "source": [
    "import pandas as pd\n",
    "\n",
    "# Criar um DataFrame a partir de um dicionário\n",
    "dados = {\n",
    "    'Nome': ['João', 'Maria', 'Pedro', 'Ana'],\n",
    "    'Idade': [25, 30, 18, 21],\n",
    "    'Cidade': ['São Paulo', 'Rio de Janeiro', 'Curitiba', 'Salvador']\n",
    "}\n",
    "\n",
    "df = pd.DataFrame(dados)\n",
    "\n",
    "# Imprimir o DataFrame\n",
    "print(df)"
   ]
  },
  {
   "cell_type": "code",
   "execution_count": 2,
   "metadata": {},
   "outputs": [
    {
     "data": {
      "image/png": "[encoded data removed]",
      "text/plain": [
       "<Figure size 432x288 with 1 Axes>"
      ]
     },
     "metadata": {
      "needs_background": "light"
     },
     "output_type": "display_data"
    }
   ],
   "source": [
    "import matplotlib.pyplot as plt\n",
    "\n",
    "# Dados para o eixo x (anos)\n",
    "anos = [2010, 2011, 2012, 2013, 2014, 2015, 2016]\n",
    "\n",
    "# Dados para o eixo y (população)\n",
    "populacao = [100, 110, 120, 130, 140, 150, 160]\n",
    "\n",
    "# Criar o gráfico de linhas\n",
    "plt.plot(anos, populacao, marker='o')\n",
    "\n",
    "# Configurar os rótulos dos eixos\n",
    "plt.xlabel('Ano')\n",
    "plt.ylabel('População (em milhões)')\n",
    "\n",
    "# Configurar o título do gráfico\n",
    "plt.title('Crescimento da População')\n",
    "\n",
    "# Exibir o gráfico\n",
    "plt.show()"
   ]
  },
  {
   "cell_type": "code",
   "execution_count": 3,
   "metadata": {},
   "outputs": [
    {
     "name": "stderr",
     "output_type": "stream",
     "text": [
      "c:\\Users\\Administrador\\anaconda3\\lib\\site-packages\\scipy\\__init__.py:146: UserWarning: A NumPy version >=1.16.5 and <1.23.0 is required for this version of SciPy (detected version 1.26.2\n",
      "  warnings.warn(f\"A NumPy version >={np_minversion} and <{np_maxversion}\"\n"
     ]
    },
    {
     "data": {
      "image/png": "[encoded data removed]",
      "text/plain": [
       "<Figure size 432x288 with 1 Axes>"
      ]
     },
     "metadata": {
      "needs_background": "light"
     },
     "output_type": "display_data"
    }
   ],
   "source": [
    "import seaborn as sns\n",
    "\n",
    "# Dados para o eixo x (idades)\n",
    "idades = [25, 30, 18, 21, 35, 40, 28, 32, 50, 45]\n",
    "\n",
    "# Dados para o eixo y (salários)\n",
    "salarios = [5000, 6000, 4000, 4500, 7000, 8000, 5500, 6000, 9000, 8500]\n",
    "\n",
    "# Criar o gráfico de dispersão\n",
    "sns.scatterplot(x=idades, y=salarios)\n",
    "\n",
    "# Configurar os rótulos dos eixos\n",
    "plt.xlabel('Idade')\n",
    "plt.ylabel('Salário')\n",
    "\n",
    "# Configurar o título do gráfico\n",
    "plt.title('Relação entre Idade e Salário')\n",
    "\n",
    "# Exibir o gráfico\n",
    "plt.show()"
   ]
  },
  {
   "cell_type": "code",
   "execution_count": 1,
   "metadata": {},
   "outputs": [
    {
     "name": "stdout",
     "output_type": "stream",
     "text": [
      "DataFrame:\n",
      "      Nome  Idade Cidade\n",
      "0    Alice     25      A\n",
      "1      Bob     30      B\n",
      "2  Charlie     35      A\n",
      "3    David     40      C\n",
      "\n",
      "Informações do DataFrame:\n",
      "<class 'pandas.core.frame.DataFrame'>\n",
      "RangeIndex: 4 entries, 0 to 3\n",
      "Data columns (total 3 columns):\n",
      " #   Column  Non-Null Count  Dtype \n",
      "---  ------  --------------  ----- \n",
      " 0   Nome    4 non-null      object\n",
      " 1   Idade   4 non-null      int64 \n",
      " 2   Cidade  4 non-null      object\n",
      "dtypes: int64(1), object(2)\n",
      "memory usage: 224.0+ bytes\n",
      "None\n",
      "\n",
      "Resumo Estatístico:\n",
      "           Idade\n",
      "count   4.000000\n",
      "mean   32.500000\n",
      "std     6.454972\n",
      "min    25.000000\n",
      "25%    28.750000\n",
      "50%    32.500000\n",
      "75%    36.250000\n",
      "max    40.000000\n",
      "\n",
      "Coluna 'Nome':\n",
      "0      Alice\n",
      "1        Bob\n",
      "2    Charlie\n",
      "3      David\n",
      "Name: Nome, dtype: object\n",
      "\n",
      "Pessoas com idade superior a 30 anos:\n",
      "      Nome  Idade Cidade\n",
      "2  Charlie     35      A\n",
      "3    David     40      C\n"
     ]
    }
   ],
   "source": [
    "import pandas as pd\n",
    "\n",
    "# Criar um DataFrame a partir de um dicionário\n",
    "data = {'Nome': ['Alice', 'Bob', 'Charlie', 'David'],\n",
    "        'Idade': [25, 30, 35, 40],\n",
    "        'Cidade': ['A', 'B', 'A', 'C']}\n",
    "\n",
    "df = pd.DataFrame(data)\n",
    "\n",
    "# Exibir o DataFrame\n",
    "print(\"DataFrame:\")\n",
    "print(df)\n",
    "print()\n",
    "\n",
    "# Obter informações sobre o DataFrame\n",
    "print(\"Informações do DataFrame:\")\n",
    "print(df.info())\n",
    "print()\n",
    "\n",
    "# Resumo estatístico do DataFrame\n",
    "print(\"Resumo Estatístico:\")\n",
    "print(df.describe())\n",
    "print()\n",
    "\n",
    "# Selecionar uma coluna específica\n",
    "print(\"Coluna 'Nome':\")\n",
    "print(df['Nome'])\n",
    "print()\n",
    "\n",
    "# Filtrar o DataFrame com base em uma condição\n",
    "print(\"Pessoas com idade superior a 30 anos:\")\n",
    "print(df[df['Idade'] > 30])\n"
   ]
  },
  {
   "cell_type": "code",
   "execution_count": 3,
   "metadata": {},
   "outputs": [
    {
     "name": "stdout",
     "output_type": "stream",
     "text": [
      "0    1\n",
      "1    2\n",
      "2    3\n",
      "3    4\n",
      "4    5\n",
      "5    6\n",
      "dtype: int64\n",
      "<class 'pandas.core.series.Series'>\n"
     ]
    }
   ],
   "source": [
    "serie = pd.Series([1,2,3,4,5,6])\n",
    "print(serie)\n",
    "print(type(serie))\n",
    "#array com label"
   ]
  },
  {
   "cell_type": "code",
   "execution_count": 8,
   "metadata": {},
   "outputs": [
    {
     "name": "stdout",
     "output_type": "stream",
     "text": [
      "nome1    1\n",
      "nome2    2\n",
      "nome3    3\n",
      "dtype: int64\n"
     ]
    }
   ],
   "source": [
    "serie = pd.Series([1,2,3], [\"nome1\", \"nome2\", \"nome3\"])\n",
    "print(serie)"
   ]
  },
  {
   "cell_type": "code",
   "execution_count": 30,
   "metadata": {},
   "outputs": [
    {
     "name": "stdout",
     "output_type": "stream",
     "text": [
      "       coluna1  coluna2  coluna3\n",
      "nome1        1        2        3\n",
      "nome2        4        5        6\n"
     ]
    }
   ],
   "source": [
    "import pandas as pd\n",
    "\n",
    "data = [[1, 2, 3], [4, 5, 6]]\n",
    "index = [\"nome1\", \"nome2\"]\n",
    "columns = [\"coluna1\", \"coluna2\", \"coluna3\"]\n",
    "\n",
    "# Criar um DataFrame a partir dos dados e índices\n",
    "df = pd.DataFrame(data, index=index, columns=columns)\n",
    "\n",
    "# Exibir o DataFrame\n",
    "print(df)\n",
    "\n"
   ]
  },
  {
   "cell_type": "code",
   "execution_count": 36,
   "metadata": {},
   "outputs": [
    {
     "name": "stdout",
     "output_type": "stream",
     "text": [
      "nome1    1\n",
      "nome2    4\n",
      "Name: coluna1, dtype: int64\n",
      "       coluna1  coluna2  coluna3\n",
      "nome1        2        3        4\n",
      "nome2        5        6        7\n",
      "<bound method PandasArray.to_numpy of <PandasArray>\n",
      "[1, 4]\n",
      "Length: 2, dtype: int64>\n",
      "nome1    1\n",
      "nome2    4\n",
      "Name: coluna1, dtype: int64 ['coluna2']\n"
     ]
    }
   ],
   "source": [
    "\n",
    "\n",
    "# Exibir a Série\n",
    "print(df['coluna1'])\n",
    "nomes = pd.Series(df['coluna1'])\n",
    "print(df+1)\n",
    "print(nomes.array.to_numpy)\n"
   ]
  },
  {
   "cell_type": "code",
   "execution_count": 39,
   "metadata": {},
   "outputs": [
    {
     "name": "stdout",
     "output_type": "stream",
     "text": [
      "       coluna1  coluna2\n",
      "nome1        1        2\n",
      "nome2        4        5\n"
     ]
    }
   ],
   "source": [
    "print(df[['coluna1','coluna2']])"
   ]
  },
  {
   "cell_type": "code",
   "execution_count": 42,
   "metadata": {},
   "outputs": [
    {
     "name": "stdout",
     "output_type": "stream",
     "text": [
      "6\n"
     ]
    }
   ],
   "source": [
    "print(df.loc['nome1'])"
   ]
  },
  {
   "cell_type": "code",
   "execution_count": 43,
   "metadata": {},
   "outputs": [
    {
     "name": "stdout",
     "output_type": "stream",
     "text": [
      "6\n"
     ]
    }
   ],
   "source": [
    "print(df.loc['nome1'].sum())"
   ]
  },
  {
   "cell_type": "code",
   "execution_count": 44,
   "metadata": {},
   "outputs": [
    {
     "name": "stdout",
     "output_type": "stream",
     "text": [
      "coluna1    1\n",
      "coluna2    2\n",
      "coluna3    3\n",
      "Name: nome1, dtype: int64\n",
      "coluna1    2\n",
      "coluna2    3\n",
      "coluna3    4\n",
      "Name: nome1, dtype: int64\n"
     ]
    }
   ],
   "source": [
    "# Exibir a Série\n",
    "valores_nome1 = df.loc[\"nome1\"]\n",
    "print (valores_nome1)\n",
    "print(valores_nome1+1)\n"
   ]
  },
  {
   "cell_type": "code",
   "execution_count": null,
   "metadata": {},
   "outputs": [],
   "source": []
  }
 ],
 "metadata": {
  "kernelspec": {
   "display_name": "base",
   "language": "python",
   "name": "python3"
  },
  "language_info": {
   "codemirror_mode": {
    "name": "ipython",
    "version": 3
   },
   "file_extension": ".py",
   "mimetype": "text/x-python",
   "name": "python",
   "nbconvert_exporter": "python",
   "pygments_lexer": "ipython3",
   "version": "3.9.7"
  }
 },
 "nbformat": 4,
 "nbformat_minor": 2
}
