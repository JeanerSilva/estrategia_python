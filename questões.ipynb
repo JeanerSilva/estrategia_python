{
 "cells": [
  {
   "cell_type": "markdown",
   "id": "147fbb4b",
   "metadata": {},
   "source": [
    "#1. A função sempre tem que ter parêntesis, tanto na hora de declarar quanto na hora de chamar:"
   ]
  },
  {
   "cell_type": "code",
   "execution_count": 4,
   "id": "06d06f71",
   "metadata": {},
   "outputs": [],
   "source": [
    "def minhafuncao():\n",
    "    print('executa')"
   ]
  },
  {
   "cell_type": "code",
   "execution_count": 7,
   "id": "5a761255",
   "metadata": {},
   "outputs": [
    {
     "name": "stdout",
     "output_type": "stream",
     "text": [
      "executa\n"
     ]
    }
   ],
   "source": [
    "minhafuncao()"
   ]
  },
  {
   "cell_type": "markdown",
   "id": "cb5ec5a1",
   "metadata": {},
   "source": [
    "Python permite que os parâmetros:\n",
    "a) venham fora de ordem\n",
    "b) não precisem ser especificados na cabeça da função"
   ]
  },
  {
   "cell_type": "code",
   "execution_count": 11,
   "id": "6a642dff",
   "metadata": {},
   "outputs": [],
   "source": [
    "def funcaokwargs(**kwargs):\n",
    "    primeiro = kwargs.get(\"primeiro\")\n",
    "    segundo = kwargs.get(\"segundo\")\n",
    "    print(f\"primeiro parametro: {primeiro}\")\n",
    "    print(f\"segundo parametro: {segundo}\")"
   ]
  },
  {
   "cell_type": "code",
   "execution_count": 13,
   "id": "28bf04bf",
   "metadata": {},
   "outputs": [
    {
     "name": "stdout",
     "output_type": "stream",
     "text": [
      "primeiro parametro: p1\n",
      "segundo parametro: p2\n"
     ]
    }
   ],
   "source": [
    "funcaokwargs(segundo = \"p2\", primeiro = \"p1\")"
   ]
  },
  {
   "cell_type": "markdown",
   "id": "13eac87d",
   "metadata": {},
   "source": [
    "É possível sem o kwargs, desde que todos sejam espeficicados"
   ]
  },
  {
   "cell_type": "code",
   "execution_count": 15,
   "id": "42c1b16a",
   "metadata": {},
   "outputs": [],
   "source": [
    "def minhafuncaocomparametrosforadeordem(parametro2, parametro1):\n",
    "    print(f\"primeiro parametro {parametro1}\")\n",
    "    print(f\"segundo parametro {parametro2}\")"
   ]
  },
  {
   "cell_type": "code",
   "execution_count": null,
   "id": "8bffa3b8",
   "metadata": {},
   "outputs": [],
   "source": [
    "minhafuncaocomparametrosforadeordem()"
   ]
  },
  {
   "cell_type": "code",
   "execution_count": 4,
   "id": "13bd87ed",
   "metadata": {},
   "outputs": [
    {
     "name": "stdout",
     "output_type": "stream",
     "text": [
      "deu erro\n",
      "the end\n"
     ]
    }
   ],
   "source": [
    "x=0\n",
    "y=20\n",
    "try:\n",
    "    print(y/x)\n",
    "except:\n",
    "    print(\"deu erro\")\n",
    "finally:\n",
    "    print(\"the end\")"
   ]
  },
  {
   "cell_type": "code",
   "execution_count": 8,
   "id": "ba46f61f",
   "metadata": {},
   "outputs": [
    {
     "name": "stdout",
     "output_type": "stream",
     "text": [
      "{'nome': 'ciro', 'cep': '12.345-000'}\n",
      "['um', 'dois']\n",
      "True\n",
      "None\n"
     ]
    }
   ],
   "source": [
    "import json\n",
    "\n",
    "s1 = \"{\\\"nome\\\":\\\"ciro\\\", \\\"cep\\\":\\\"12.345-000\\\"}\"\n",
    "s2 = \"[\\\"um\\\",\\\"dois\\\"]\"\n",
    "s3 = \"true\"\n",
    "s4 = \"null\"\n",
    "\n",
    "print(json.loads(s1))\n",
    "print(json.loads(s2))\n",
    "print(json.loads(s3))\n",
    "print(json.loads(s4))"
   ]
  },
  {
   "cell_type": "code",
   "execution_count": 9,
   "id": "e5eeb637",
   "metadata": {},
   "outputs": [
    {
     "name": "stdout",
     "output_type": "stream",
     "text": [
      "Rex\n",
      "Au Au!\n",
      "Whiskers\n",
      "Miau!\n"
     ]
    }
   ],
   "source": [
    "class Animal:\n",
    "    def __init__(self, nome):\n",
    "        self.nome = nome\n",
    "\n",
    "    def fazer_som(self):\n",
    "        pass\n",
    "\n",
    "# para herança, coloque o nome da função pai como parâmetro da função filha\n",
    "class Cachorro(Animal):\n",
    "    def fazer_som(self):\n",
    "        return \"Au Au!\"\n",
    "\n",
    "class Gato(Animal):\n",
    "    def fazer_som(self):\n",
    "        return \"Miau!\"\n",
    "\n",
    "# Exemplo de uso\n",
    "dog = Cachorro(\"Rex\")\n",
    "cat = Gato(\"Whiskers\")\n",
    "\n",
    "print(dog.nome)  # Output: Rex\n",
    "print(dog.fazer_som())  # Output: Au Au!\n",
    "\n",
    "print(cat.nome)  # Output: Whiskers\n",
    "print(cat.fazer_som())  # Output: Miau!\n"
   ]
  },
  {
   "cell_type": "code",
   "execution_count": 10,
   "id": "0d93fd8e",
   "metadata": {},
   "outputs": [
    {
     "name": "stdout",
     "output_type": "stream",
     "text": [
      "3\n"
     ]
    }
   ],
   "source": [
    "L=[0,1,2,3,4]\n",
    "print(L[2:4][-1])"
   ]
  },
  {
   "cell_type": "code",
   "execution_count": 11,
   "id": "965415c2",
   "metadata": {},
   "outputs": [
    {
     "name": "stdout",
     "output_type": "stream",
     "text": [
      "0\n",
      "1\n",
      "2\n",
      "3\n",
      "4\n",
      "5\n",
      "6\n",
      "7\n",
      "8\n",
      "9\n"
     ]
    }
   ],
   "source": [
    "def enigma(n):\n",
    "    for i in range(n):\n",
    "        yield i # não poderia ser return i, pois o final da função seria apenas o rimeiro inteiro, que não é iterável\n",
    "\n",
    "for num in enigma(10):\n",
    "    print(num)"
   ]
  },
  {
   "cell_type": "code",
   "execution_count": 15,
   "id": "10239a39",
   "metadata": {},
   "outputs": [
    {
     "name": "stdout",
     "output_type": "stream",
     "text": [
      "0\n"
     ]
    }
   ],
   "source": [
    "def enigma(n):\n",
    "    for i in range(n):\n",
    "        return i\n",
    "\n",
    "print(enigma(100))"
   ]
  },
  {
   "cell_type": "code",
   "execution_count": null,
   "id": "ec363c45",
   "metadata": {},
   "outputs": [],
   "source": []
  }
 ],
 "metadata": {
  "kernelspec": {
   "display_name": "Python 3 (ipykernel)",
   "language": "python",
   "name": "python3"
  },
  "language_info": {
   "codemirror_mode": {
    "name": "ipython",
    "version": 3
   },
   "file_extension": ".py",
   "mimetype": "text/x-python",
   "name": "python",
   "nbconvert_exporter": "python",
   "pygments_lexer": "ipython3",
   "version": "3.9.7"
  }
 },
 "nbformat": 4,
 "nbformat_minor": 5
}
